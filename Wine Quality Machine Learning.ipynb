{
 "cells": [
  {
   "cell_type": "markdown",
   "metadata": {},
   "source": [
    "# Wine Quality Data Set\n",
    "\n",
    "The data was downloaded from UCI Machine Learning Repository: https://archive.ics.uci.edu/ml/datasets/wine+quality\n",
    "\n",
    "The two datasets are related to red and white variants of the Portuguese \"Vinho Verde\" wine. For more details, consult: <a href=\"https://www.vinhoverde.pt/en/\">[Web Link]</a>  or the reference [Cortez et al., 2009]. \n",
    "\n",
    "In the above reference, two datasets were created, using red and white wine samples. The inputs include objective tests (e.g. PH values) and the output is based on sensory data (median of at least 3 evaluations made by wine experts). Each expert graded the wine quality between 0 (very bad) and 10 (very excellent). Due to privacy and logistic issues, only physicochemical (inputs) and sensory (the output) variables are available (e.g. there is no data about grape types, wine brand, wine selling price, etc.).\n",
    "\n",
    "These datasets can be viewed as classification or regression tasks. The classes are ordered and not balanced (e.g. there are many more normal wines than excellent or poor ones). Outlier detection algorithms could be used to detect the few excellent or poor wines. Also, we are not sure if all input variables are relevant. So it could be interesting to test feature selection methods.\n",
    "\n",
    "## Goal\n",
    "\n",
    "The objective is to classify the data into the various quality score categories. Three machine learning models will be trained and tested to determine which will yield the best results:\n",
    "\n",
    "- Support Vector Machines (SVM)\n",
    "- Decision Trees\n",
    "- Random Forest"
   ]
  },
  {
   "cell_type": "code",
   "execution_count": 170,
   "metadata": {},
   "outputs": [],
   "source": [
    "import pandas as pd\n",
    "import numpy as np\n",
    "import matplotlib.pyplot as plt\n",
    "import seaborn as sns\n",
    "%matplotlib inline"
   ]
  },
  {
   "cell_type": "code",
   "execution_count": 171,
   "metadata": {},
   "outputs": [],
   "source": [
    "#Read the file. Data is separated by semicolons instead of commas\n",
    "wine_red = pd.read_csv('winequality-red.csv',sep=';')\n",
    "wine_white = pd.read_csv('winequality-white.csv',sep=';')"
   ]
  },
  {
   "cell_type": "markdown",
   "metadata": {},
   "source": [
    "# Checking for Missing Values"
   ]
  },
  {
   "cell_type": "code",
   "execution_count": 172,
   "metadata": {},
   "outputs": [
    {
     "data": {
      "text/plain": [
       "False"
      ]
     },
     "execution_count": 172,
     "metadata": {},
     "output_type": "execute_result"
    }
   ],
   "source": [
    "#Checking the entire data frame for missing values\n",
    "wine_red.isna().any().any()"
   ]
  },
  {
   "cell_type": "code",
   "execution_count": 173,
   "metadata": {},
   "outputs": [
    {
     "data": {
      "text/plain": [
       "False"
      ]
     },
     "execution_count": 173,
     "metadata": {},
     "output_type": "execute_result"
    }
   ],
   "source": [
    "#Checking the entire data frame for missing values\n",
    "wine_white.isna().any().any()"
   ]
  },
  {
   "cell_type": "markdown",
   "metadata": {},
   "source": [
    "There are no missing values in either dataset."
   ]
  },
  {
   "cell_type": "markdown",
   "metadata": {},
   "source": [
    "# Combining the Datasets\n",
    "\n",
    "We are seeking to identify a machine learning model that will predict the quality of wine. It would be beneficial to train the model across all the wine data as the model will have more values to train on for each wine quality score.\n",
    "\n",
    "## Creating a label for wine type\n",
    " \n",
    "We will create a new column for \"type\"\n",
    "\n",
    "- Red wine will be labelled as 0,\n",
    "- White wine will be labelled as 1."
   ]
  },
  {
   "cell_type": "code",
   "execution_count": 174,
   "metadata": {},
   "outputs": [],
   "source": [
    "wine_red['type'] = 0\n",
    "wine_white['type'] = 1"
   ]
  },
  {
   "cell_type": "code",
   "execution_count": 175,
   "metadata": {},
   "outputs": [],
   "source": [
    "#Creating a new dataframe called wine that contains all the details of all wines\n",
    "wine = pd.concat([wine_red, wine_white], axis=0)"
   ]
  },
  {
   "cell_type": "code",
   "execution_count": 176,
   "metadata": {},
   "outputs": [
    {
     "data": {
      "text/html": [
       "<div>\n",
       "<style scoped>\n",
       "    .dataframe tbody tr th:only-of-type {\n",
       "        vertical-align: middle;\n",
       "    }\n",
       "\n",
       "    .dataframe tbody tr th {\n",
       "        vertical-align: top;\n",
       "    }\n",
       "\n",
       "    .dataframe thead th {\n",
       "        text-align: right;\n",
       "    }\n",
       "</style>\n",
       "<table border=\"1\" class=\"dataframe\">\n",
       "  <thead>\n",
       "    <tr style=\"text-align: right;\">\n",
       "      <th></th>\n",
       "      <th>fixed acidity</th>\n",
       "      <th>volatile acidity</th>\n",
       "      <th>citric acid</th>\n",
       "      <th>residual sugar</th>\n",
       "      <th>chlorides</th>\n",
       "      <th>free sulfur dioxide</th>\n",
       "      <th>total sulfur dioxide</th>\n",
       "      <th>density</th>\n",
       "      <th>pH</th>\n",
       "      <th>sulphates</th>\n",
       "      <th>alcohol</th>\n",
       "      <th>quality</th>\n",
       "      <th>type</th>\n",
       "    </tr>\n",
       "  </thead>\n",
       "  <tbody>\n",
       "    <tr>\n",
       "      <th>0</th>\n",
       "      <td>7.4</td>\n",
       "      <td>0.70</td>\n",
       "      <td>0.00</td>\n",
       "      <td>1.9</td>\n",
       "      <td>0.076</td>\n",
       "      <td>11.0</td>\n",
       "      <td>34.0</td>\n",
       "      <td>0.9978</td>\n",
       "      <td>3.51</td>\n",
       "      <td>0.56</td>\n",
       "      <td>9.4</td>\n",
       "      <td>5</td>\n",
       "      <td>0</td>\n",
       "    </tr>\n",
       "    <tr>\n",
       "      <th>1</th>\n",
       "      <td>7.8</td>\n",
       "      <td>0.88</td>\n",
       "      <td>0.00</td>\n",
       "      <td>2.6</td>\n",
       "      <td>0.098</td>\n",
       "      <td>25.0</td>\n",
       "      <td>67.0</td>\n",
       "      <td>0.9968</td>\n",
       "      <td>3.20</td>\n",
       "      <td>0.68</td>\n",
       "      <td>9.8</td>\n",
       "      <td>5</td>\n",
       "      <td>0</td>\n",
       "    </tr>\n",
       "    <tr>\n",
       "      <th>2</th>\n",
       "      <td>7.8</td>\n",
       "      <td>0.76</td>\n",
       "      <td>0.04</td>\n",
       "      <td>2.3</td>\n",
       "      <td>0.092</td>\n",
       "      <td>15.0</td>\n",
       "      <td>54.0</td>\n",
       "      <td>0.9970</td>\n",
       "      <td>3.26</td>\n",
       "      <td>0.65</td>\n",
       "      <td>9.8</td>\n",
       "      <td>5</td>\n",
       "      <td>0</td>\n",
       "    </tr>\n",
       "    <tr>\n",
       "      <th>3</th>\n",
       "      <td>11.2</td>\n",
       "      <td>0.28</td>\n",
       "      <td>0.56</td>\n",
       "      <td>1.9</td>\n",
       "      <td>0.075</td>\n",
       "      <td>17.0</td>\n",
       "      <td>60.0</td>\n",
       "      <td>0.9980</td>\n",
       "      <td>3.16</td>\n",
       "      <td>0.58</td>\n",
       "      <td>9.8</td>\n",
       "      <td>6</td>\n",
       "      <td>0</td>\n",
       "    </tr>\n",
       "    <tr>\n",
       "      <th>4</th>\n",
       "      <td>7.4</td>\n",
       "      <td>0.70</td>\n",
       "      <td>0.00</td>\n",
       "      <td>1.9</td>\n",
       "      <td>0.076</td>\n",
       "      <td>11.0</td>\n",
       "      <td>34.0</td>\n",
       "      <td>0.9978</td>\n",
       "      <td>3.51</td>\n",
       "      <td>0.56</td>\n",
       "      <td>9.4</td>\n",
       "      <td>5</td>\n",
       "      <td>0</td>\n",
       "    </tr>\n",
       "  </tbody>\n",
       "</table>\n",
       "</div>"
      ],
      "text/plain": [
       "   fixed acidity  volatile acidity  citric acid  residual sugar  chlorides  \\\n",
       "0            7.4              0.70         0.00             1.9      0.076   \n",
       "1            7.8              0.88         0.00             2.6      0.098   \n",
       "2            7.8              0.76         0.04             2.3      0.092   \n",
       "3           11.2              0.28         0.56             1.9      0.075   \n",
       "4            7.4              0.70         0.00             1.9      0.076   \n",
       "\n",
       "   free sulfur dioxide  total sulfur dioxide  density    pH  sulphates  \\\n",
       "0                 11.0                  34.0   0.9978  3.51       0.56   \n",
       "1                 25.0                  67.0   0.9968  3.20       0.68   \n",
       "2                 15.0                  54.0   0.9970  3.26       0.65   \n",
       "3                 17.0                  60.0   0.9980  3.16       0.58   \n",
       "4                 11.0                  34.0   0.9978  3.51       0.56   \n",
       "\n",
       "   alcohol  quality  type  \n",
       "0      9.4        5     0  \n",
       "1      9.8        5     0  \n",
       "2      9.8        5     0  \n",
       "3      9.8        6     0  \n",
       "4      9.4        5     0  "
      ]
     },
     "execution_count": 176,
     "metadata": {},
     "output_type": "execute_result"
    }
   ],
   "source": [
    "wine.head()"
   ]
  },
  {
   "cell_type": "code",
   "execution_count": 177,
   "metadata": {},
   "outputs": [
    {
     "data": {
      "text/plain": [
       "Index(['fixed acidity', 'volatile acidity', 'citric acid', 'residual sugar',\n",
       "       'chlorides', 'free sulfur dioxide', 'total sulfur dioxide', 'density',\n",
       "       'pH', 'sulphates', 'alcohol', 'quality', 'type'],\n",
       "      dtype='object')"
      ]
     },
     "execution_count": 177,
     "metadata": {},
     "output_type": "execute_result"
    }
   ],
   "source": [
    "wine.columns"
   ]
  },
  {
   "cell_type": "code",
   "execution_count": 178,
   "metadata": {},
   "outputs": [
    {
     "name": "stdout",
     "output_type": "stream",
     "text": [
      "<class 'pandas.core.frame.DataFrame'>\n",
      "Int64Index: 6497 entries, 0 to 4897\n",
      "Data columns (total 13 columns):\n",
      " #   Column                Non-Null Count  Dtype  \n",
      "---  ------                --------------  -----  \n",
      " 0   fixed acidity         6497 non-null   float64\n",
      " 1   volatile acidity      6497 non-null   float64\n",
      " 2   citric acid           6497 non-null   float64\n",
      " 3   residual sugar        6497 non-null   float64\n",
      " 4   chlorides             6497 non-null   float64\n",
      " 5   free sulfur dioxide   6497 non-null   float64\n",
      " 6   total sulfur dioxide  6497 non-null   float64\n",
      " 7   density               6497 non-null   float64\n",
      " 8   pH                    6497 non-null   float64\n",
      " 9   sulphates             6497 non-null   float64\n",
      " 10  alcohol               6497 non-null   float64\n",
      " 11  quality               6497 non-null   int64  \n",
      " 12  type                  6497 non-null   int64  \n",
      "dtypes: float64(11), int64(2)\n",
      "memory usage: 710.6 KB\n"
     ]
    }
   ],
   "source": [
    "wine.info()"
   ]
  },
  {
   "cell_type": "markdown",
   "metadata": {},
   "source": [
    "# Checking for Outliers"
   ]
  },
  {
   "cell_type": "code",
   "execution_count": 179,
   "metadata": {},
   "outputs": [],
   "source": [
    "from scipy import stats\n",
    "from scipy.stats import zscore"
   ]
  },
  {
   "cell_type": "markdown",
   "metadata": {},
   "source": [
    "- Assuming the data has a gaussian distribution as there are many more normal wines than poor or excellent ones. \n",
    "- Outliers would be more than three standard deviations away. "
   ]
  },
  {
   "cell_type": "code",
   "execution_count": 180,
   "metadata": {},
   "outputs": [],
   "source": [
    "z_scores = stats.zscore(wine)\n",
    "\n",
    "#Identifying points that are three standard deviations away\n",
    "abs_z_scores = np.abs(z_scores)\n",
    "filtered_entries = (abs_z_scores < 3).all(axis=1)\n",
    "\n",
    "#Creating new datframe with with the filtered values\n",
    "wine_new = wine[filtered_entries]"
   ]
  },
  {
   "cell_type": "code",
   "execution_count": 181,
   "metadata": {},
   "outputs": [
    {
     "name": "stdout",
     "output_type": "stream",
     "text": [
      "508 outliers have been removed from the wine_red dataset, which represents 7.82 % of the original dataset.\n"
     ]
    }
   ],
   "source": [
    "#Identifying number of rows in new dataframe with the filtered values\n",
    "wine_new_rows = len(wine_new)\n",
    "\n",
    "#Number of rows in the original dataframes\n",
    "wine_rows = len(wine.index)\n",
    "\n",
    "#Reduction in the rows of the dataset\n",
    "wine_reduction = wine_rows-wine_new_rows\n",
    "wine_reduction_percent = (wine_reduction/wine_rows)*100\n",
    "\n",
    "print(wine_reduction,\"outliers have been removed from the wine_red dataset, which represents\", round(wine_reduction_percent,2),\"% of the original dataset.\" )"
   ]
  },
  {
   "cell_type": "markdown",
   "metadata": {},
   "source": [
    "As a significant number of outliers have been removed we need to check if any of the quality scores have been removed."
   ]
  },
  {
   "cell_type": "code",
   "execution_count": 182,
   "metadata": {},
   "outputs": [
    {
     "data": {
      "text/plain": [
       "3      30\n",
       "4     216\n",
       "5    2138\n",
       "6    2836\n",
       "7    1079\n",
       "8     193\n",
       "9       5\n",
       "Name: quality, dtype: int64"
      ]
     },
     "execution_count": 182,
     "metadata": {},
     "output_type": "execute_result"
    }
   ],
   "source": [
    "#Original number of wines corresponding to each quality rating\n",
    "wine['quality'].value_counts().sort_index()"
   ]
  },
  {
   "cell_type": "markdown",
   "metadata": {},
   "source": [
    "For wines with quality 3 and 9 there is insufficient data to accurately predict the quality using a machine learning model."
   ]
  },
  {
   "cell_type": "code",
   "execution_count": 183,
   "metadata": {
    "scrolled": true
   },
   "outputs": [
    {
     "data": {
      "text/plain": [
       "4     184\n",
       "5    1958\n",
       "6    2636\n",
       "7    1027\n",
       "8     184\n",
       "Name: quality, dtype: int64"
      ]
     },
     "execution_count": 183,
     "metadata": {},
     "output_type": "execute_result"
    }
   ],
   "source": [
    "wine_new['quality'].value_counts().sort_index()"
   ]
  },
  {
   "cell_type": "markdown",
   "metadata": {},
   "source": [
    "- Poor quality wines with a score of 3 have been removed.\n",
    "- Excellent quality wines with a score of 9 have been removed.\n",
    "- While wines of quality 4 and 8 are still present.\n",
    "\n",
    "We will proceed with the new dataset with the filtered values."
   ]
  },
  {
   "cell_type": "markdown",
   "metadata": {},
   "source": [
    "# Exploratory Data Analysis "
   ]
  },
  {
   "cell_type": "code",
   "execution_count": 184,
   "metadata": {},
   "outputs": [
    {
     "data": {
      "text/html": [
       "<div>\n",
       "<style scoped>\n",
       "    .dataframe tbody tr th:only-of-type {\n",
       "        vertical-align: middle;\n",
       "    }\n",
       "\n",
       "    .dataframe tbody tr th {\n",
       "        vertical-align: top;\n",
       "    }\n",
       "\n",
       "    .dataframe thead th {\n",
       "        text-align: right;\n",
       "    }\n",
       "</style>\n",
       "<table border=\"1\" class=\"dataframe\">\n",
       "  <thead>\n",
       "    <tr style=\"text-align: right;\">\n",
       "      <th></th>\n",
       "      <th>fixed acidity</th>\n",
       "      <th>volatile acidity</th>\n",
       "      <th>citric acid</th>\n",
       "      <th>residual sugar</th>\n",
       "      <th>chlorides</th>\n",
       "      <th>free sulfur dioxide</th>\n",
       "      <th>total sulfur dioxide</th>\n",
       "      <th>density</th>\n",
       "      <th>pH</th>\n",
       "      <th>sulphates</th>\n",
       "      <th>alcohol</th>\n",
       "      <th>quality</th>\n",
       "      <th>type</th>\n",
       "    </tr>\n",
       "  </thead>\n",
       "  <tbody>\n",
       "    <tr>\n",
       "      <th>fixed acidity</th>\n",
       "      <td>1.000000</td>\n",
       "      <td>0.204046</td>\n",
       "      <td>0.242447</td>\n",
       "      <td>-0.090760</td>\n",
       "      <td>0.364424</td>\n",
       "      <td>-0.250571</td>\n",
       "      <td>-0.274014</td>\n",
       "      <td>0.407062</td>\n",
       "      <td>-0.221865</td>\n",
       "      <td>0.233203</td>\n",
       "      <td>-0.103256</td>\n",
       "      <td>-0.085213</td>\n",
       "      <td>-0.442849</td>\n",
       "    </tr>\n",
       "    <tr>\n",
       "      <th>volatile acidity</th>\n",
       "      <td>0.204046</td>\n",
       "      <td>1.000000</td>\n",
       "      <td>-0.430326</td>\n",
       "      <td>-0.197058</td>\n",
       "      <td>0.496519</td>\n",
       "      <td>-0.346565</td>\n",
       "      <td>-0.404227</td>\n",
       "      <td>0.247992</td>\n",
       "      <td>0.262876</td>\n",
       "      <td>0.224637</td>\n",
       "      <td>-0.039541</td>\n",
       "      <td>-0.242564</td>\n",
       "      <td>-0.655691</td>\n",
       "    </tr>\n",
       "    <tr>\n",
       "      <th>citric acid</th>\n",
       "      <td>0.242447</td>\n",
       "      <td>-0.430326</td>\n",
       "      <td>1.000000</td>\n",
       "      <td>0.165821</td>\n",
       "      <td>-0.136419</td>\n",
       "      <td>0.188659</td>\n",
       "      <td>0.259480</td>\n",
       "      <td>0.041760</td>\n",
       "      <td>-0.293830</td>\n",
       "      <td>-0.016885</td>\n",
       "      <td>-0.001722</td>\n",
       "      <td>0.082348</td>\n",
       "      <td>0.264488</td>\n",
       "    </tr>\n",
       "    <tr>\n",
       "      <th>residual sugar</th>\n",
       "      <td>-0.090760</td>\n",
       "      <td>-0.197058</td>\n",
       "      <td>0.165821</td>\n",
       "      <td>1.000000</td>\n",
       "      <td>-0.140055</td>\n",
       "      <td>0.436970</td>\n",
       "      <td>0.503755</td>\n",
       "      <td>0.583922</td>\n",
       "      <td>-0.279926</td>\n",
       "      <td>-0.169277</td>\n",
       "      <td>-0.389312</td>\n",
       "      <td>-0.043271</td>\n",
       "      <td>0.338436</td>\n",
       "    </tr>\n",
       "    <tr>\n",
       "      <th>chlorides</th>\n",
       "      <td>0.364424</td>\n",
       "      <td>0.496519</td>\n",
       "      <td>-0.136419</td>\n",
       "      <td>-0.140055</td>\n",
       "      <td>1.000000</td>\n",
       "      <td>-0.259136</td>\n",
       "      <td>-0.350782</td>\n",
       "      <td>0.484535</td>\n",
       "      <td>0.202127</td>\n",
       "      <td>0.325731</td>\n",
       "      <td>-0.318957</td>\n",
       "      <td>-0.249538</td>\n",
       "      <td>-0.684358</td>\n",
       "    </tr>\n",
       "    <tr>\n",
       "      <th>free sulfur dioxide</th>\n",
       "      <td>-0.250571</td>\n",
       "      <td>-0.346565</td>\n",
       "      <td>0.188659</td>\n",
       "      <td>0.436970</td>\n",
       "      <td>-0.259136</td>\n",
       "      <td>1.000000</td>\n",
       "      <td>0.718169</td>\n",
       "      <td>0.088629</td>\n",
       "      <td>-0.165620</td>\n",
       "      <td>-0.167453</td>\n",
       "      <td>-0.193071</td>\n",
       "      <td>0.070611</td>\n",
       "      <td>0.461297</td>\n",
       "    </tr>\n",
       "    <tr>\n",
       "      <th>total sulfur dioxide</th>\n",
       "      <td>-0.274014</td>\n",
       "      <td>-0.404227</td>\n",
       "      <td>0.259480</td>\n",
       "      <td>0.503755</td>\n",
       "      <td>-0.350782</td>\n",
       "      <td>0.718169</td>\n",
       "      <td>1.000000</td>\n",
       "      <td>0.098138</td>\n",
       "      <td>-0.259024</td>\n",
       "      <td>-0.255926</td>\n",
       "      <td>-0.288291</td>\n",
       "      <td>-0.046646</td>\n",
       "      <td>0.683218</td>\n",
       "    </tr>\n",
       "    <tr>\n",
       "      <th>density</th>\n",
       "      <td>0.407062</td>\n",
       "      <td>0.247992</td>\n",
       "      <td>0.041760</td>\n",
       "      <td>0.583922</td>\n",
       "      <td>0.484535</td>\n",
       "      <td>0.088629</td>\n",
       "      <td>0.098138</td>\n",
       "      <td>1.000000</td>\n",
       "      <td>0.051610</td>\n",
       "      <td>0.235882</td>\n",
       "      <td>-0.739544</td>\n",
       "      <td>-0.322905</td>\n",
       "      <td>-0.358738</td>\n",
       "    </tr>\n",
       "    <tr>\n",
       "      <th>pH</th>\n",
       "      <td>-0.221865</td>\n",
       "      <td>0.262876</td>\n",
       "      <td>-0.293830</td>\n",
       "      <td>-0.279926</td>\n",
       "      <td>0.202127</td>\n",
       "      <td>-0.165620</td>\n",
       "      <td>-0.259024</td>\n",
       "      <td>0.051610</td>\n",
       "      <td>1.000000</td>\n",
       "      <td>0.292439</td>\n",
       "      <td>0.091032</td>\n",
       "      <td>0.024722</td>\n",
       "      <td>-0.371684</td>\n",
       "    </tr>\n",
       "    <tr>\n",
       "      <th>sulphates</th>\n",
       "      <td>0.233203</td>\n",
       "      <td>0.224637</td>\n",
       "      <td>-0.016885</td>\n",
       "      <td>-0.169277</td>\n",
       "      <td>0.325731</td>\n",
       "      <td>-0.167453</td>\n",
       "      <td>-0.255926</td>\n",
       "      <td>0.235882</td>\n",
       "      <td>0.292439</td>\n",
       "      <td>1.000000</td>\n",
       "      <td>0.009271</td>\n",
       "      <td>0.051402</td>\n",
       "      <td>-0.464822</td>\n",
       "    </tr>\n",
       "    <tr>\n",
       "      <th>alcohol</th>\n",
       "      <td>-0.103256</td>\n",
       "      <td>-0.039541</td>\n",
       "      <td>-0.001722</td>\n",
       "      <td>-0.389312</td>\n",
       "      <td>-0.318957</td>\n",
       "      <td>-0.193071</td>\n",
       "      <td>-0.288291</td>\n",
       "      <td>-0.739544</td>\n",
       "      <td>0.091032</td>\n",
       "      <td>0.009271</td>\n",
       "      <td>1.000000</td>\n",
       "      <td>0.455830</td>\n",
       "      <td>0.032523</td>\n",
       "    </tr>\n",
       "    <tr>\n",
       "      <th>quality</th>\n",
       "      <td>-0.085213</td>\n",
       "      <td>-0.242564</td>\n",
       "      <td>0.082348</td>\n",
       "      <td>-0.043271</td>\n",
       "      <td>-0.249538</td>\n",
       "      <td>0.070611</td>\n",
       "      <td>-0.046646</td>\n",
       "      <td>-0.322905</td>\n",
       "      <td>0.024722</td>\n",
       "      <td>0.051402</td>\n",
       "      <td>0.455830</td>\n",
       "      <td>1.000000</td>\n",
       "      <td>0.114576</td>\n",
       "    </tr>\n",
       "    <tr>\n",
       "      <th>type</th>\n",
       "      <td>-0.442849</td>\n",
       "      <td>-0.655691</td>\n",
       "      <td>0.264488</td>\n",
       "      <td>0.338436</td>\n",
       "      <td>-0.684358</td>\n",
       "      <td>0.461297</td>\n",
       "      <td>0.683218</td>\n",
       "      <td>-0.358738</td>\n",
       "      <td>-0.371684</td>\n",
       "      <td>-0.464822</td>\n",
       "      <td>0.032523</td>\n",
       "      <td>0.114576</td>\n",
       "      <td>1.000000</td>\n",
       "    </tr>\n",
       "  </tbody>\n",
       "</table>\n",
       "</div>"
      ],
      "text/plain": [
       "                      fixed acidity  volatile acidity  citric acid  \\\n",
       "fixed acidity              1.000000          0.204046     0.242447   \n",
       "volatile acidity           0.204046          1.000000    -0.430326   \n",
       "citric acid                0.242447         -0.430326     1.000000   \n",
       "residual sugar            -0.090760         -0.197058     0.165821   \n",
       "chlorides                  0.364424          0.496519    -0.136419   \n",
       "free sulfur dioxide       -0.250571         -0.346565     0.188659   \n",
       "total sulfur dioxide      -0.274014         -0.404227     0.259480   \n",
       "density                    0.407062          0.247992     0.041760   \n",
       "pH                        -0.221865          0.262876    -0.293830   \n",
       "sulphates                  0.233203          0.224637    -0.016885   \n",
       "alcohol                   -0.103256         -0.039541    -0.001722   \n",
       "quality                   -0.085213         -0.242564     0.082348   \n",
       "type                      -0.442849         -0.655691     0.264488   \n",
       "\n",
       "                      residual sugar  chlorides  free sulfur dioxide  \\\n",
       "fixed acidity              -0.090760   0.364424            -0.250571   \n",
       "volatile acidity           -0.197058   0.496519            -0.346565   \n",
       "citric acid                 0.165821  -0.136419             0.188659   \n",
       "residual sugar              1.000000  -0.140055             0.436970   \n",
       "chlorides                  -0.140055   1.000000            -0.259136   \n",
       "free sulfur dioxide         0.436970  -0.259136             1.000000   \n",
       "total sulfur dioxide        0.503755  -0.350782             0.718169   \n",
       "density                     0.583922   0.484535             0.088629   \n",
       "pH                         -0.279926   0.202127            -0.165620   \n",
       "sulphates                  -0.169277   0.325731            -0.167453   \n",
       "alcohol                    -0.389312  -0.318957            -0.193071   \n",
       "quality                    -0.043271  -0.249538             0.070611   \n",
       "type                        0.338436  -0.684358             0.461297   \n",
       "\n",
       "                      total sulfur dioxide   density        pH  sulphates  \\\n",
       "fixed acidity                    -0.274014  0.407062 -0.221865   0.233203   \n",
       "volatile acidity                 -0.404227  0.247992  0.262876   0.224637   \n",
       "citric acid                       0.259480  0.041760 -0.293830  -0.016885   \n",
       "residual sugar                    0.503755  0.583922 -0.279926  -0.169277   \n",
       "chlorides                        -0.350782  0.484535  0.202127   0.325731   \n",
       "free sulfur dioxide               0.718169  0.088629 -0.165620  -0.167453   \n",
       "total sulfur dioxide              1.000000  0.098138 -0.259024  -0.255926   \n",
       "density                           0.098138  1.000000  0.051610   0.235882   \n",
       "pH                               -0.259024  0.051610  1.000000   0.292439   \n",
       "sulphates                        -0.255926  0.235882  0.292439   1.000000   \n",
       "alcohol                          -0.288291 -0.739544  0.091032   0.009271   \n",
       "quality                          -0.046646 -0.322905  0.024722   0.051402   \n",
       "type                              0.683218 -0.358738 -0.371684  -0.464822   \n",
       "\n",
       "                       alcohol   quality      type  \n",
       "fixed acidity        -0.103256 -0.085213 -0.442849  \n",
       "volatile acidity     -0.039541 -0.242564 -0.655691  \n",
       "citric acid          -0.001722  0.082348  0.264488  \n",
       "residual sugar       -0.389312 -0.043271  0.338436  \n",
       "chlorides            -0.318957 -0.249538 -0.684358  \n",
       "free sulfur dioxide  -0.193071  0.070611  0.461297  \n",
       "total sulfur dioxide -0.288291 -0.046646  0.683218  \n",
       "density              -0.739544 -0.322905 -0.358738  \n",
       "pH                    0.091032  0.024722 -0.371684  \n",
       "sulphates             0.009271  0.051402 -0.464822  \n",
       "alcohol               1.000000  0.455830  0.032523  \n",
       "quality               0.455830  1.000000  0.114576  \n",
       "type                  0.032523  0.114576  1.000000  "
      ]
     },
     "execution_count": 184,
     "metadata": {},
     "output_type": "execute_result"
    }
   ],
   "source": [
    "wine_new.corr()"
   ]
  },
  {
   "cell_type": "code",
   "execution_count": 185,
   "metadata": {
    "scrolled": true
   },
   "outputs": [
    {
     "data": {
      "text/plain": [
       "<AxesSubplot:>"
      ]
     },
     "execution_count": 185,
     "metadata": {},
     "output_type": "execute_result"
    },
    {
     "data": {
      "image/png": "[encoded data removed]",
      "text/plain": [
       "<Figure size 432x288 with 2 Axes>"
      ]
     },
     "metadata": {
      "needs_background": "light"
     },
     "output_type": "display_data"
    }
   ],
   "source": [
    "sns.heatmap(wine_new.corr())"
   ]
  },
  {
   "cell_type": "markdown",
   "metadata": {},
   "source": [
    "It appears that free sulphur dioxide values appear to be most correlated with quality."
   ]
  },
  {
   "cell_type": "code",
   "execution_count": 186,
   "metadata": {},
   "outputs": [
    {
     "data": {
      "text/plain": [
       "<seaborn.axisgrid.PairGrid at 0x24d74d1cc10>"
      ]
     },
     "execution_count": 186,
     "metadata": {},
     "output_type": "execute_result"
    },
    {
     "data": {
      "image/png": "[encoded data removed]",
      "text/plain": [
       "<Figure size 1980x180 with 11 Axes>"
      ]
     },
     "metadata": {
      "needs_background": "light"
     },
     "output_type": "display_data"
    }
   ],
   "source": [
    "sns.pairplot(data=wine_new,\n",
    "                  y_vars=['quality'],\n",
    "                  x_vars=['fixed acidity', 'volatile acidity', 'citric acid', 'residual sugar',\n",
    "       'chlorides', 'free sulfur dioxide', 'total sulfur dioxide', 'density',\n",
    "       'pH', 'sulphates', 'alcohol'])"
   ]
  },
  {
   "cell_type": "markdown",
   "metadata": {},
   "source": [
    "It is difficult to understand the relationship between variables based on the plots above. Specific domain knowledge may be necessary to understand how to visualize the data."
   ]
  },
  {
   "cell_type": "markdown",
   "metadata": {},
   "source": [
    "# Train and Test the Model\n",
    "\n",
    "In this stage we will separate our dataset into training data that will be used to train the model and testing data that will be used to judge the accuracy of the results. We will now train and test the three machine learning models to determine which will yield the best results:\n",
    "\n",
    "- Support Vector Machines (SVM)\n",
    "- Decision Trees\n",
    "- Random Forest"
   ]
  },
  {
   "cell_type": "markdown",
   "metadata": {},
   "source": [
    "## Train Test Split"
   ]
  },
  {
   "cell_type": "code",
   "execution_count": 187,
   "metadata": {},
   "outputs": [],
   "source": [
    "from sklearn.model_selection import train_test_split"
   ]
  },
  {
   "cell_type": "code",
   "execution_count": 188,
   "metadata": {},
   "outputs": [],
   "source": [
    "X = wine_new.drop('quality',axis=1)\n",
    "y = wine_new['quality']\n",
    "X_train, X_test, y_train, y_test = train_test_split(X, y, test_size=0.30)"
   ]
  },
  {
   "cell_type": "markdown",
   "metadata": {},
   "source": [
    "## Support Vector Machines (SVM)"
   ]
  },
  {
   "cell_type": "markdown",
   "metadata": {},
   "source": [
    "### Train the Support Vector Classifier"
   ]
  },
  {
   "cell_type": "code",
   "execution_count": 189,
   "metadata": {},
   "outputs": [
    {
     "data": {
      "text/plain": [
       "SVC()"
      ]
     },
     "execution_count": 189,
     "metadata": {},
     "output_type": "execute_result"
    }
   ],
   "source": [
    "from sklearn.svm import SVC\n",
    "model = SVC()\n",
    "model.fit(X_train,y_train)"
   ]
  },
  {
   "cell_type": "markdown",
   "metadata": {},
   "source": [
    "### Support Vector Machines: Predictions and Evaluations"
   ]
  },
  {
   "cell_type": "code",
   "execution_count": 190,
   "metadata": {
    "scrolled": true
   },
   "outputs": [
    {
     "name": "stdout",
     "output_type": "stream",
     "text": [
      "              precision    recall  f1-score   support\n",
      "\n",
      "           4       0.00      0.00      0.00        59\n",
      "           5       0.41      0.07      0.12       581\n",
      "           6       0.44      0.94      0.60       801\n",
      "           7       0.00      0.00      0.00       302\n",
      "           8       0.00      0.00      0.00        54\n",
      "\n",
      "    accuracy                           0.44      1797\n",
      "   macro avg       0.17      0.20      0.15      1797\n",
      "weighted avg       0.33      0.44      0.31      1797\n",
      "\n"
     ]
    },
    {
     "name": "stderr",
     "output_type": "stream",
     "text": [
      "C:\\Users\\Priank Ravichandar\\anaconda3\\lib\\site-packages\\sklearn\\metrics\\_classification.py:1221: UndefinedMetricWarning: Precision and F-score are ill-defined and being set to 0.0 in labels with no predicted samples. Use `zero_division` parameter to control this behavior.\n",
      "  _warn_prf(average, modifier, msg_start, len(result))\n"
     ]
    }
   ],
   "source": [
    "predictions = model.predict(X_test)\n",
    "\n",
    "from sklearn.metrics import classification_report,confusion_matrix\n",
    "\n",
    "print(classification_report(y_test,predictions))"
   ]
  },
  {
   "cell_type": "markdown",
   "metadata": {},
   "source": [
    "- We see above that the accuracy is only at <b>0.45</b>. \n",
    "- It is only able to predict quality for wines with quality scores of 5 and 6.\n",
    "\n",
    "We may be able to improve the performance using Gridsearch."
   ]
  },
  {
   "cell_type": "markdown",
   "metadata": {},
   "source": [
    "### Gridsearch\n",
    "\n",
    "GridSearchCV takes a dictionary that describes the parameters that should be tried and a model to train. The grid of parameters is defined as a dictionary, where the keys are the parameters and the values are the settings to be tested."
   ]
  },
  {
   "cell_type": "code",
   "execution_count": 191,
   "metadata": {},
   "outputs": [
    {
     "name": "stdout",
     "output_type": "stream",
     "text": [
      "Fitting 5 folds for each of 16 candidates, totalling 80 fits\n",
      "[CV] C=0.1, gamma=1 ..................................................\n"
     ]
    },
    {
     "name": "stderr",
     "output_type": "stream",
     "text": [
      "[Parallel(n_jobs=1)]: Using backend SequentialBackend with 1 concurrent workers.\n"
     ]
    },
    {
     "name": "stdout",
     "output_type": "stream",
     "text": [
      "[CV] ................................... C=0.1, gamma=1, total=   1.1s\n",
      "[CV] C=0.1, gamma=1 ..................................................\n"
     ]
    },
    {
     "name": "stderr",
     "output_type": "stream",
     "text": [
      "[Parallel(n_jobs=1)]: Done   1 out of   1 | elapsed:    1.0s remaining:    0.0s\n"
     ]
    },
    {
     "name": "stdout",
     "output_type": "stream",
     "text": [
      "[CV] ................................... C=0.1, gamma=1, total=   1.1s\n",
      "[CV] C=0.1, gamma=1 ..................................................\n",
      "[CV] ................................... C=0.1, gamma=1, total=   1.1s\n",
      "[CV] C=0.1, gamma=1 ..................................................\n",
      "[CV] ................................... C=0.1, gamma=1, total=   1.1s\n",
      "[CV] C=0.1, gamma=1 ..................................................\n",
      "[CV] ................................... C=0.1, gamma=1, total=   1.2s\n",
      "[CV] C=0.1, gamma=0.1 ................................................\n",
      "[CV] ................................. C=0.1, gamma=0.1, total=   0.8s\n",
      "[CV] C=0.1, gamma=0.1 ................................................\n",
      "[CV] ................................. C=0.1, gamma=0.1, total=   0.8s\n",
      "[CV] C=0.1, gamma=0.1 ................................................\n",
      "[CV] ................................. C=0.1, gamma=0.1, total=   0.8s\n",
      "[CV] C=0.1, gamma=0.1 ................................................\n",
      "[CV] ................................. C=0.1, gamma=0.1, total=   0.8s\n",
      "[CV] C=0.1, gamma=0.1 ................................................\n",
      "[CV] ................................. C=0.1, gamma=0.1, total=   0.8s\n",
      "[CV] C=0.1, gamma=0.01 ...............................................\n",
      "[CV] ................................ C=0.1, gamma=0.01, total=   0.3s\n",
      "[CV] C=0.1, gamma=0.01 ...............................................\n",
      "[CV] ................................ C=0.1, gamma=0.01, total=   0.4s\n",
      "[CV] C=0.1, gamma=0.01 ...............................................\n",
      "[CV] ................................ C=0.1, gamma=0.01, total=   0.4s\n",
      "[CV] C=0.1, gamma=0.01 ...............................................\n",
      "[CV] ................................ C=0.1, gamma=0.01, total=   0.4s\n",
      "[CV] C=0.1, gamma=0.01 ...............................................\n",
      "[CV] ................................ C=0.1, gamma=0.01, total=   0.4s\n",
      "[CV] C=0.1, gamma=0.001 ..............................................\n",
      "[CV] ............................... C=0.1, gamma=0.001, total=   0.3s\n",
      "[CV] C=0.1, gamma=0.001 ..............................................\n",
      "[CV] ............................... C=0.1, gamma=0.001, total=   0.3s\n",
      "[CV] C=0.1, gamma=0.001 ..............................................\n",
      "[CV] ............................... C=0.1, gamma=0.001, total=   0.3s\n",
      "[CV] C=0.1, gamma=0.001 ..............................................\n",
      "[CV] ............................... C=0.1, gamma=0.001, total=   0.4s\n",
      "[CV] C=0.1, gamma=0.001 ..............................................\n",
      "[CV] ............................... C=0.1, gamma=0.001, total=   0.4s\n",
      "[CV] C=1, gamma=1 ....................................................\n",
      "[CV] ..................................... C=1, gamma=1, total=   1.2s\n",
      "[CV] C=1, gamma=1 ....................................................\n",
      "[CV] ..................................... C=1, gamma=1, total=   1.1s\n",
      "[CV] C=1, gamma=1 ....................................................\n",
      "[CV] ..................................... C=1, gamma=1, total=   1.2s\n",
      "[CV] C=1, gamma=1 ....................................................\n",
      "[CV] ..................................... C=1, gamma=1, total=   1.1s\n",
      "[CV] C=1, gamma=1 ....................................................\n",
      "[CV] ..................................... C=1, gamma=1, total=   1.1s\n",
      "[CV] C=1, gamma=0.1 ..................................................\n",
      "[CV] ................................... C=1, gamma=0.1, total=   0.8s\n",
      "[CV] C=1, gamma=0.1 ..................................................\n",
      "[CV] ................................... C=1, gamma=0.1, total=   0.8s\n",
      "[CV] C=1, gamma=0.1 ..................................................\n",
      "[CV] ................................... C=1, gamma=0.1, total=   0.9s\n",
      "[CV] C=1, gamma=0.1 ..................................................\n",
      "[CV] ................................... C=1, gamma=0.1, total=   0.8s\n",
      "[CV] C=1, gamma=0.1 ..................................................\n",
      "[CV] ................................... C=1, gamma=0.1, total=   0.8s\n",
      "[CV] C=1, gamma=0.01 .................................................\n",
      "[CV] .................................. C=1, gamma=0.01, total=   0.4s\n",
      "[CV] C=1, gamma=0.01 .................................................\n",
      "[CV] .................................. C=1, gamma=0.01, total=   0.4s\n",
      "[CV] C=1, gamma=0.01 .................................................\n",
      "[CV] .................................. C=1, gamma=0.01, total=   0.4s\n",
      "[CV] C=1, gamma=0.01 .................................................\n",
      "[CV] .................................. C=1, gamma=0.01, total=   0.4s\n",
      "[CV] C=1, gamma=0.01 .................................................\n",
      "[CV] .................................. C=1, gamma=0.01, total=   0.4s\n",
      "[CV] C=1, gamma=0.001 ................................................\n",
      "[CV] ................................. C=1, gamma=0.001, total=   0.5s\n",
      "[CV] C=1, gamma=0.001 ................................................\n",
      "[CV] ................................. C=1, gamma=0.001, total=   0.4s\n",
      "[CV] C=1, gamma=0.001 ................................................\n",
      "[CV] ................................. C=1, gamma=0.001, total=   0.4s\n",
      "[CV] C=1, gamma=0.001 ................................................\n",
      "[CV] ................................. C=1, gamma=0.001, total=   0.5s\n",
      "[CV] C=1, gamma=0.001 ................................................\n",
      "[CV] ................................. C=1, gamma=0.001, total=   0.5s\n",
      "[CV] C=10, gamma=1 ...................................................\n",
      "[CV] .................................... C=10, gamma=1, total=   1.2s\n",
      "[CV] C=10, gamma=1 ...................................................\n",
      "[CV] .................................... C=10, gamma=1, total=   1.2s\n",
      "[CV] C=10, gamma=1 ...................................................\n",
      "[CV] .................................... C=10, gamma=1, total=   1.2s\n",
      "[CV] C=10, gamma=1 ...................................................\n",
      "[CV] .................................... C=10, gamma=1, total=   1.2s\n",
      "[CV] C=10, gamma=1 ...................................................\n",
      "[CV] .................................... C=10, gamma=1, total=   1.2s\n",
      "[CV] C=10, gamma=0.1 .................................................\n",
      "[CV] .................................. C=10, gamma=0.1, total=   1.0s\n",
      "[CV] C=10, gamma=0.1 .................................................\n",
      "[CV] .................................. C=10, gamma=0.1, total=   0.9s\n",
      "[CV] C=10, gamma=0.1 .................................................\n",
      "[CV] .................................. C=10, gamma=0.1, total=   0.9s\n",
      "[CV] C=10, gamma=0.1 .................................................\n",
      "[CV] .................................. C=10, gamma=0.1, total=   0.9s\n",
      "[CV] C=10, gamma=0.1 .................................................\n",
      "[CV] .................................. C=10, gamma=0.1, total=   0.9s\n",
      "[CV] C=10, gamma=0.01 ................................................\n",
      "[CV] ................................. C=10, gamma=0.01, total=   0.4s\n",
      "[CV] C=10, gamma=0.01 ................................................\n",
      "[CV] ................................. C=10, gamma=0.01, total=   0.5s\n",
      "[CV] C=10, gamma=0.01 ................................................\n",
      "[CV] ................................. C=10, gamma=0.01, total=   0.4s\n",
      "[CV] C=10, gamma=0.01 ................................................\n",
      "[CV] ................................. C=10, gamma=0.01, total=   0.4s\n",
      "[CV] C=10, gamma=0.01 ................................................\n",
      "[CV] ................................. C=10, gamma=0.01, total=   0.4s\n",
      "[CV] C=10, gamma=0.001 ...............................................\n",
      "[CV] ................................ C=10, gamma=0.001, total=   0.5s\n",
      "[CV] C=10, gamma=0.001 ...............................................\n",
      "[CV] ................................ C=10, gamma=0.001, total=   0.5s\n",
      "[CV] C=10, gamma=0.001 ...............................................\n",
      "[CV] ................................ C=10, gamma=0.001, total=   0.5s\n",
      "[CV] C=10, gamma=0.001 ...............................................\n",
      "[CV] ................................ C=10, gamma=0.001, total=   0.5s\n",
      "[CV] C=10, gamma=0.001 ...............................................\n"
     ]
    },
    {
     "name": "stdout",
     "output_type": "stream",
     "text": [
      "[CV] ................................ C=10, gamma=0.001, total=   0.5s\n",
      "[CV] C=100, gamma=1 ..................................................\n",
      "[CV] ................................... C=100, gamma=1, total=   1.1s\n",
      "[CV] C=100, gamma=1 ..................................................\n",
      "[CV] ................................... C=100, gamma=1, total=   1.1s\n",
      "[CV] C=100, gamma=1 ..................................................\n",
      "[CV] ................................... C=100, gamma=1, total=   1.1s\n",
      "[CV] C=100, gamma=1 ..................................................\n",
      "[CV] ................................... C=100, gamma=1, total=   1.1s\n",
      "[CV] C=100, gamma=1 ..................................................\n",
      "[CV] ................................... C=100, gamma=1, total=   1.1s\n",
      "[CV] C=100, gamma=0.1 ................................................\n",
      "[CV] ................................. C=100, gamma=0.1, total=   0.9s\n",
      "[CV] C=100, gamma=0.1 ................................................\n",
      "[CV] ................................. C=100, gamma=0.1, total=   0.9s\n",
      "[CV] C=100, gamma=0.1 ................................................\n",
      "[CV] ................................. C=100, gamma=0.1, total=   0.9s\n",
      "[CV] C=100, gamma=0.1 ................................................\n",
      "[CV] ................................. C=100, gamma=0.1, total=   0.9s\n",
      "[CV] C=100, gamma=0.1 ................................................\n",
      "[CV] ................................. C=100, gamma=0.1, total=   0.9s\n",
      "[CV] C=100, gamma=0.01 ...............................................\n",
      "[CV] ................................ C=100, gamma=0.01, total=   0.8s\n",
      "[CV] C=100, gamma=0.01 ...............................................\n",
      "[CV] ................................ C=100, gamma=0.01, total=   0.8s\n",
      "[CV] C=100, gamma=0.01 ...............................................\n",
      "[CV] ................................ C=100, gamma=0.01, total=   1.0s\n",
      "[CV] C=100, gamma=0.01 ...............................................\n",
      "[CV] ................................ C=100, gamma=0.01, total=   0.9s\n",
      "[CV] C=100, gamma=0.01 ...............................................\n",
      "[CV] ................................ C=100, gamma=0.01, total=   0.9s\n",
      "[CV] C=100, gamma=0.001 ..............................................\n",
      "[CV] ............................... C=100, gamma=0.001, total=   0.8s\n",
      "[CV] C=100, gamma=0.001 ..............................................\n",
      "[CV] ............................... C=100, gamma=0.001, total=   0.9s\n",
      "[CV] C=100, gamma=0.001 ..............................................\n",
      "[CV] ............................... C=100, gamma=0.001, total=   0.8s\n",
      "[CV] C=100, gamma=0.001 ..............................................\n",
      "[CV] ............................... C=100, gamma=0.001, total=   0.8s\n",
      "[CV] C=100, gamma=0.001 ..............................................\n",
      "[CV] ............................... C=100, gamma=0.001, total=   0.8s\n"
     ]
    },
    {
     "name": "stderr",
     "output_type": "stream",
     "text": [
      "[Parallel(n_jobs=1)]: Done  80 out of  80 | elapsed:  1.0min finished\n"
     ]
    },
    {
     "data": {
      "text/plain": [
       "GridSearchCV(estimator=SVC(),\n",
       "             param_grid={'C': [0.1, 1, 10, 100],\n",
       "                         'gamma': [1, 0.1, 0.01, 0.001]},\n",
       "             verbose=2)"
      ]
     },
     "execution_count": 191,
     "metadata": {},
     "output_type": "execute_result"
    }
   ],
   "source": [
    "#Import GridsearchCV from SciKit Learn\n",
    "from sklearn.model_selection import GridSearchCV\n",
    "\n",
    "#Creating a dictionary called param_grid and fill out some parameters for C and gamma\n",
    "param_grid = {'C': [0.1,1, 10, 100], 'gamma': [1,0.1,0.01,0.001]} \n",
    "\n",
    "#Create a GridSearchCV object and fit it to the training data\n",
    "grid = GridSearchCV(SVC(),param_grid,refit=True,verbose=2)\n",
    "grid.fit(X_train,y_train)"
   ]
  },
  {
   "cell_type": "markdown",
   "metadata": {},
   "source": [
    "### Support Vector Machines: Predictions using Gridsearch"
   ]
  },
  {
   "cell_type": "code",
   "execution_count": 192,
   "metadata": {},
   "outputs": [
    {
     "name": "stdout",
     "output_type": "stream",
     "text": [
      "              precision    recall  f1-score   support\n",
      "\n",
      "           4       1.00      0.10      0.18        59\n",
      "           5       0.84      0.34      0.49       581\n",
      "           6       0.53      0.95      0.68       801\n",
      "           7       0.88      0.30      0.45       302\n",
      "           8       1.00      0.28      0.43        54\n",
      "\n",
      "    accuracy                           0.60      1797\n",
      "   macro avg       0.85      0.40      0.45      1797\n",
      "weighted avg       0.72      0.60      0.56      1797\n",
      "\n"
     ]
    }
   ],
   "source": [
    "# Taking the grid model and create some predictions using the test set and create classification reports and confusion matrices for them\n",
    "svm_grid_predictions = grid.predict(X_test)\n",
    "\n",
    "print(classification_report(y_test,svm_grid_predictions))"
   ]
  },
  {
   "cell_type": "markdown",
   "metadata": {},
   "source": [
    "Using Gridsearch, Accuracy, Precision, Recall and F1-score have increased.\n",
    " \n",
    "The model is now able to predict quality for all wines from quality score 4-8."
   ]
  },
  {
   "cell_type": "markdown",
   "metadata": {},
   "source": [
    "## Decision Trees\n",
    "\n",
    "### Training a Decision Tree Model"
   ]
  },
  {
   "cell_type": "code",
   "execution_count": 193,
   "metadata": {},
   "outputs": [],
   "source": [
    "#Import DecisionTreeClassifier\n",
    "from sklearn.tree import DecisionTreeClassifier"
   ]
  },
  {
   "cell_type": "code",
   "execution_count": 194,
   "metadata": {},
   "outputs": [
    {
     "data": {
      "text/plain": [
       "DecisionTreeClassifier()"
      ]
     },
     "execution_count": 194,
     "metadata": {},
     "output_type": "execute_result"
    }
   ],
   "source": [
    "#Create an instance of DecisionTreeClassifier() called dtree and fit it to the training data.\n",
    "dtree = DecisionTreeClassifier()\n",
    "dtree.fit(X_train,y_train)"
   ]
  },
  {
   "cell_type": "markdown",
   "metadata": {},
   "source": [
    "### Decision Tree: Predictions and Evaluation"
   ]
  },
  {
   "cell_type": "code",
   "execution_count": 195,
   "metadata": {},
   "outputs": [
    {
     "name": "stdout",
     "output_type": "stream",
     "text": [
      "              precision    recall  f1-score   support\n",
      "\n",
      "           4       0.25      0.22      0.24        59\n",
      "           5       0.64      0.62      0.63       581\n",
      "           6       0.65      0.63      0.64       801\n",
      "           7       0.51      0.60      0.55       302\n",
      "           8       0.35      0.33      0.34        54\n",
      "\n",
      "    accuracy                           0.60      1797\n",
      "   macro avg       0.48      0.48      0.48      1797\n",
      "weighted avg       0.60      0.60      0.60      1797\n",
      "\n"
     ]
    }
   ],
   "source": [
    "decision_trees_predictions = dtree.predict(X_test)\n",
    "\n",
    "print(classification_report(y_test,decision_trees_predictions))"
   ]
  },
  {
   "cell_type": "markdown",
   "metadata": {},
   "source": [
    "Accuracy, Precision, Recall and F1-Score, are higher than SVM."
   ]
  },
  {
   "cell_type": "markdown",
   "metadata": {},
   "source": [
    "## Random Forests\n",
    "\n",
    "### Training the Random Forest Model"
   ]
  },
  {
   "cell_type": "code",
   "execution_count": 196,
   "metadata": {},
   "outputs": [
    {
     "data": {
      "text/plain": [
       "RandomForestClassifier()"
      ]
     },
     "execution_count": 196,
     "metadata": {},
     "output_type": "execute_result"
    }
   ],
   "source": [
    "#Create an instance of the RandomForestClassifier class and fit it to our training data\n",
    "from sklearn.ensemble import RandomForestClassifier\n",
    "\n",
    "#n_estimators is the number of trees in the forest\n",
    "rfc = RandomForestClassifier(n_estimators=100)\n",
    "\n",
    "rfc.fit(X_train,y_train)"
   ]
  },
  {
   "cell_type": "markdown",
   "metadata": {},
   "source": [
    "### Random Forests: Predictions and Evaluation"
   ]
  },
  {
   "cell_type": "code",
   "execution_count": 197,
   "metadata": {},
   "outputs": [
    {
     "name": "stdout",
     "output_type": "stream",
     "text": [
      "              precision    recall  f1-score   support\n",
      "\n",
      "           4       1.00      0.14      0.24        59\n",
      "           5       0.71      0.69      0.70       581\n",
      "           6       0.65      0.78      0.71       801\n",
      "           7       0.73      0.57      0.64       302\n",
      "           8       0.89      0.31      0.47        54\n",
      "\n",
      "    accuracy                           0.68      1797\n",
      "   macro avg       0.80      0.50      0.55      1797\n",
      "weighted avg       0.70      0.68      0.67      1797\n",
      "\n"
     ]
    }
   ],
   "source": [
    "random_forests_predictions = rfc.predict(X_test)\n",
    "\n",
    "print(classification_report(y_test,random_forests_predictions))"
   ]
  },
  {
   "cell_type": "markdown",
   "metadata": {},
   "source": [
    "# Comparing the Models"
   ]
  },
  {
   "cell_type": "code",
   "execution_count": 198,
   "metadata": {},
   "outputs": [],
   "source": [
    "#Converting each of the classification reports into dictionaries\n",
    "\n",
    "report_svm = classification_report(y_test,svm_grid_predictions , output_dict=True)\n",
    "report_dt = classification_report(y_test,decision_trees_predictions , output_dict=True)\n",
    "report_rf = classification_report(y_test,random_forests_predictions , output_dict=True)"
   ]
  },
  {
   "cell_type": "code",
   "execution_count": 199,
   "metadata": {},
   "outputs": [
    {
     "data": {
      "text/html": [
       "<div>\n",
       "<style scoped>\n",
       "    .dataframe tbody tr th:only-of-type {\n",
       "        vertical-align: middle;\n",
       "    }\n",
       "\n",
       "    .dataframe tbody tr th {\n",
       "        vertical-align: top;\n",
       "    }\n",
       "\n",
       "    .dataframe thead th {\n",
       "        text-align: right;\n",
       "    }\n",
       "</style>\n",
       "<table border=\"1\" class=\"dataframe\">\n",
       "  <thead>\n",
       "    <tr style=\"text-align: right;\">\n",
       "      <th></th>\n",
       "      <th>Model Name</th>\n",
       "      <th>Accuracy</th>\n",
       "      <th>Precision</th>\n",
       "      <th>Recall</th>\n",
       "      <th>F1-Score</th>\n",
       "    </tr>\n",
       "  </thead>\n",
       "  <tbody>\n",
       "    <tr>\n",
       "      <th>2</th>\n",
       "      <td>Random Forests</td>\n",
       "      <td>0.68</td>\n",
       "      <td>0.70</td>\n",
       "      <td>0.68</td>\n",
       "      <td>0.67</td>\n",
       "    </tr>\n",
       "    <tr>\n",
       "      <th>0</th>\n",
       "      <td>SVM</td>\n",
       "      <td>0.60</td>\n",
       "      <td>0.72</td>\n",
       "      <td>0.60</td>\n",
       "      <td>0.56</td>\n",
       "    </tr>\n",
       "    <tr>\n",
       "      <th>1</th>\n",
       "      <td>Decision Trees</td>\n",
       "      <td>0.60</td>\n",
       "      <td>0.60</td>\n",
       "      <td>0.60</td>\n",
       "      <td>0.60</td>\n",
       "    </tr>\n",
       "  </tbody>\n",
       "</table>\n",
       "</div>"
      ],
      "text/plain": [
       "       Model Name  Accuracy  Precision  Recall  F1-Score\n",
       "2  Random Forests      0.68       0.70    0.68      0.67\n",
       "0             SVM      0.60       0.72    0.60      0.56\n",
       "1  Decision Trees      0.60       0.60    0.60      0.60"
      ]
     },
     "execution_count": 199,
     "metadata": {},
     "output_type": "execute_result"
    }
   ],
   "source": [
    "model = {'Model Name':['SVM', 'Decision Trees', 'Random Forests'],\n",
    "        'Accuracy':[report_svm['accuracy'],report_dt['accuracy'],report_rf['accuracy']],\n",
    "        'Precision':[report_svm['weighted avg']['precision'],report_dt['weighted avg']['precision'],report_rf['weighted avg']['precision']],\n",
    "        'Recall':[report_svm['weighted avg']['recall'],report_dt['weighted avg']['recall'],report_rf['weighted avg']['recall']],\n",
    "        'F1-Score':[report_svm['weighted avg']['f1-score'],report_dt['weighted avg']['f1-score'],report_rf['weighted avg']['f1-score']]}\n",
    "\n",
    "model = pd.DataFrame(model)\n",
    "\n",
    "model.round(2).sort_values(by=['Accuracy'],ascending=False)"
   ]
  },
  {
   "cell_type": "markdown",
   "metadata": {},
   "source": [
    "- Overall, the <b>Random Forests </b>model performed the best. \n",
    "- The SVM model had the highest precision but did not fare as well in other categories.\n",
    "\n",
    "We can now test the Random Forest model againsts the following data sets to see how well it performs\n",
    "- Filtered Wine Dataset\n",
    "- Original Wine Dataset\n",
    "- Red Wine Dataset\n",
    "- White Wine Dataset\n",
    "\n",
    "<u>Note:</u> As the model is only trained to predict the quality score of wines with a score of 4-8, we will have to drop rows with wines with a quality score of 3 and 9."
   ]
  },
  {
   "cell_type": "markdown",
   "metadata": {},
   "source": [
    "# Testing the Model "
   ]
  },
  {
   "cell_type": "markdown",
   "metadata": {},
   "source": [
    "## Random Forests: Filtered Wine Dataset"
   ]
  },
  {
   "cell_type": "code",
   "execution_count": 200,
   "metadata": {
    "scrolled": false
   },
   "outputs": [
    {
     "name": "stdout",
     "output_type": "stream",
     "text": [
      "              precision    recall  f1-score   support\n",
      "\n",
      "           4       1.00      1.00      1.00         1\n",
      "           5       1.00      1.00      1.00        32\n",
      "           6       0.96      1.00      0.98        47\n",
      "           7       0.94      0.88      0.91        17\n",
      "           8       1.00      0.67      0.80         3\n",
      "\n",
      "    accuracy                           0.97       100\n",
      "   macro avg       0.98      0.91      0.94       100\n",
      "weighted avg       0.97      0.97      0.97       100\n",
      "\n"
     ]
    }
   ],
   "source": [
    "#Selecting a random sample of 100 wines\n",
    "rand_wine = wine_new.sample(n=100)\n",
    "\n",
    "X = rand_wine.drop('quality',axis=1)\n",
    "y = rand_wine['quality']\n",
    "\n",
    "#Random Forests predictions\n",
    "random_forests_predictions = rfc.predict(X)\n",
    "\n",
    "#Assigning the classification report to a dictionary to call later\n",
    "c1 = classification_report(y,random_forests_predictions, output_dict=True)\n",
    "\n",
    "print(classification_report(y,random_forests_predictions))"
   ]
  },
  {
   "cell_type": "markdown",
   "metadata": {},
   "source": [
    "## Random Forests: Original Wine Dataset"
   ]
  },
  {
   "cell_type": "code",
   "execution_count": 201,
   "metadata": {},
   "outputs": [
    {
     "name": "stdout",
     "output_type": "stream",
     "text": [
      "              precision    recall  f1-score   support\n",
      "\n",
      "           4       1.00      0.43      0.60         7\n",
      "           5       0.90      0.96      0.93        27\n",
      "           6       0.83      0.93      0.87        41\n",
      "           7       0.90      0.86      0.88        22\n",
      "           8       1.00      0.33      0.50         3\n",
      "\n",
      "    accuracy                           0.87       100\n",
      "   macro avg       0.93      0.70      0.76       100\n",
      "weighted avg       0.88      0.87      0.86       100\n",
      "\n"
     ]
    }
   ],
   "source": [
    "#Selecting a random sample of 100 wines where quality is between 4 and 8\n",
    "rand_wine = wine[wine['quality'].isin([4,5,6,7,8])].sample(n=100)\n",
    "\n",
    "X = rand_wine.drop('quality',axis=1)\n",
    "y = rand_wine['quality']\n",
    "\n",
    "#Random Forests predictions\n",
    "random_forests_predictions = rfc.predict(X)\n",
    "\n",
    "#Assigning the classification report to a dictionary to call later\n",
    "c2 = classification_report(y,random_forests_predictions, output_dict=True)\n",
    "\n",
    "print(classification_report(y,random_forests_predictions))"
   ]
  },
  {
   "cell_type": "markdown",
   "metadata": {},
   "source": [
    "## Random Forests: Red Wine Dataset"
   ]
  },
  {
   "cell_type": "code",
   "execution_count": 202,
   "metadata": {},
   "outputs": [
    {
     "name": "stdout",
     "output_type": "stream",
     "text": [
      "              precision    recall  f1-score   support\n",
      "\n",
      "           4       1.00      0.50      0.67         2\n",
      "           5       0.94      0.83      0.88        41\n",
      "           6       0.85      0.91      0.88        44\n",
      "           7       0.73      0.92      0.81        12\n",
      "           8       1.00      1.00      1.00         1\n",
      "\n",
      "    accuracy                           0.87       100\n",
      "   macro avg       0.91      0.83      0.85       100\n",
      "weighted avg       0.88      0.87      0.87       100\n",
      "\n"
     ]
    }
   ],
   "source": [
    "#Selecting a random sample of 100 wines where quality is between 4 and 8\n",
    "rand_wine = wine_red[wine_red['quality'].isin([4,5,6,7,8])].sample(n=100)\n",
    "\n",
    "X = rand_wine.drop('quality',axis=1)\n",
    "y = rand_wine['quality']\n",
    "\n",
    "#Random Forests predictions\n",
    "random_forests_predictions = rfc.predict(X)\n",
    "\n",
    "#Assigning the classification report to a dictionary to call later\n",
    "c3 = classification_report(y,random_forests_predictions, output_dict=True)\n",
    "\n",
    "print(classification_report(y,random_forests_predictions))"
   ]
  },
  {
   "cell_type": "markdown",
   "metadata": {},
   "source": [
    "## Random Forests: White Wine Dataset"
   ]
  },
  {
   "cell_type": "code",
   "execution_count": 203,
   "metadata": {},
   "outputs": [
    {
     "name": "stdout",
     "output_type": "stream",
     "text": [
      "              precision    recall  f1-score   support\n",
      "\n",
      "           4       1.00      0.25      0.40         4\n",
      "           5       0.89      0.86      0.87        28\n",
      "           6       0.84      0.92      0.88        39\n",
      "           7       0.92      0.92      0.92        24\n",
      "           8       1.00      1.00      1.00         5\n",
      "\n",
      "    accuracy                           0.88       100\n",
      "   macro avg       0.93      0.79      0.81       100\n",
      "weighted avg       0.89      0.88      0.87       100\n",
      "\n"
     ]
    }
   ],
   "source": [
    "#Selecting a random sample of 100 wines where quality is between 4 and 8\n",
    "rand_wine = wine_white[wine_white['quality'].isin([4,5,6,7,8])].sample(n=100)\n",
    "\n",
    "X = rand_wine.drop('quality',axis=1)\n",
    "y = rand_wine['quality']\n",
    "\n",
    "#Random Forests predictions\n",
    "random_forests_predictions = rfc.predict(X)\n",
    "\n",
    "#Assigning the classification report to a dictionary to call later\n",
    "c4 = classification_report(y,random_forests_predictions, output_dict=True)\n",
    "\n",
    "print(classification_report(y,random_forests_predictions))"
   ]
  },
  {
   "cell_type": "markdown",
   "metadata": {},
   "source": [
    "## Comparing Performance"
   ]
  },
  {
   "cell_type": "code",
   "execution_count": 204,
   "metadata": {},
   "outputs": [
    {
     "data": {
      "text/html": [
       "<div>\n",
       "<style scoped>\n",
       "    .dataframe tbody tr th:only-of-type {\n",
       "        vertical-align: middle;\n",
       "    }\n",
       "\n",
       "    .dataframe tbody tr th {\n",
       "        vertical-align: top;\n",
       "    }\n",
       "\n",
       "    .dataframe thead th {\n",
       "        text-align: right;\n",
       "    }\n",
       "</style>\n",
       "<table border=\"1\" class=\"dataframe\">\n",
       "  <thead>\n",
       "    <tr style=\"text-align: right;\">\n",
       "      <th></th>\n",
       "      <th>DataSet</th>\n",
       "      <th>Accuracy</th>\n",
       "      <th>Precision</th>\n",
       "      <th>Recall</th>\n",
       "      <th>F1-Score</th>\n",
       "    </tr>\n",
       "  </thead>\n",
       "  <tbody>\n",
       "    <tr>\n",
       "      <th>0</th>\n",
       "      <td>Filtered Wine Dataset</td>\n",
       "      <td>0.97</td>\n",
       "      <td>0.97</td>\n",
       "      <td>0.97</td>\n",
       "      <td>0.97</td>\n",
       "    </tr>\n",
       "    <tr>\n",
       "      <th>3</th>\n",
       "      <td>White Wine Dataset</td>\n",
       "      <td>0.88</td>\n",
       "      <td>0.89</td>\n",
       "      <td>0.88</td>\n",
       "      <td>0.87</td>\n",
       "    </tr>\n",
       "    <tr>\n",
       "      <th>1</th>\n",
       "      <td>Original Wine Dataset</td>\n",
       "      <td>0.87</td>\n",
       "      <td>0.88</td>\n",
       "      <td>0.87</td>\n",
       "      <td>0.86</td>\n",
       "    </tr>\n",
       "    <tr>\n",
       "      <th>2</th>\n",
       "      <td>Red Wine Dataset</td>\n",
       "      <td>0.87</td>\n",
       "      <td>0.88</td>\n",
       "      <td>0.87</td>\n",
       "      <td>0.87</td>\n",
       "    </tr>\n",
       "  </tbody>\n",
       "</table>\n",
       "</div>"
      ],
      "text/plain": [
       "                 DataSet  Accuracy  Precision  Recall  F1-Score\n",
       "0  Filtered Wine Dataset      0.97       0.97    0.97      0.97\n",
       "3     White Wine Dataset      0.88       0.89    0.88      0.87\n",
       "1  Original Wine Dataset      0.87       0.88    0.87      0.86\n",
       "2       Red Wine Dataset      0.87       0.88    0.87      0.87"
      ]
     },
     "execution_count": 204,
     "metadata": {},
     "output_type": "execute_result"
    }
   ],
   "source": [
    "model = {'DataSet':['Filtered Wine Dataset', 'Original Wine Dataset', 'Red Wine Dataset','White Wine Dataset'],\n",
    "        'Accuracy':[c1['accuracy'],c2['accuracy'],c3['accuracy'],c4['accuracy']],\n",
    "        'Precision':[c1['weighted avg']['precision'],c2['weighted avg']['precision'],c3['weighted avg']['precision'],c4['weighted avg']['precision']],\n",
    "        'Recall':[c1['weighted avg']['recall'],c2['weighted avg']['recall'],c3['weighted avg']['recall'],c4['weighted avg']['recall']],\n",
    "        'F1-Score':[c1['weighted avg']['f1-score'],c2['weighted avg']['f1-score'],c3['weighted avg']['f1-score'],c4['weighted avg']['f1-score']]}\n",
    "\n",
    "model = pd.DataFrame(model)\n",
    "\n",
    "model.round(2).sort_values(by=['Accuracy'],ascending=False)"
   ]
  },
  {
   "cell_type": "markdown",
   "metadata": {},
   "source": [
    "Given a random sample of 100 wines from each dataset, the Random Forests model performed the best on the filtered wine dataset across all categories, which makes sense since it was trained on a subset of that data.\n",
    "\n",
    "Although the model excludes wines with quality scores of 3 and 9, those wines can be considered outliers since there is insufficient data to accurately predict those quality scores using a machine learning model.\n",
    "\n",
    "Overall, the Random Forests model does a good job of predicting wine quality, regardless of the type of wine."
   ]
  }
 ],
 "metadata": {
  "kernelspec": {
   "display_name": "Python 3",
   "language": "python",
   "name": "python3"
  },
  "language_info": {
   "codemirror_mode": {
    "name": "ipython",
    "version": 3
   },
   "file_extension": ".py",
   "mimetype": "text/x-python",
   "name": "python",
   "nbconvert_exporter": "python",
   "pygments_lexer": "ipython3",
   "version": "3.8.5"
  }
 },
 "nbformat": 4,
 "nbformat_minor": 4
}
